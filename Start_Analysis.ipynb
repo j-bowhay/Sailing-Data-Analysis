{
 "cells": [
  {
   "cell_type": "code",
   "execution_count": 149,
   "id": "e02566e9-72e6-46ae-9620-9158d5c0cd63",
   "metadata": {},
   "outputs": [],
   "source": [
    "import json\n",
    "from dataclasses import dataclass\n",
    "\n",
    "import requests\n",
    "import matplotlib.pyplot as plt\n",
    "import ipywidgets as widgets\n",
    "from IPython.display import Javascript"
   ]
  },
  {
   "cell_type": "markdown",
   "id": "a0bb8007-0e79-4191-ba2c-5ad5b02d0056",
   "metadata": {},
   "source": [
    "# Select Regatta and Race"
   ]
  },
  {
   "cell_type": "code",
   "execution_count": 168,
   "id": "72c8ee07-0d05-411c-ba90-fb072af5d137",
   "metadata": {},
   "outputs": [
    {
     "data": {
      "application/vnd.jupyter.widget-view+json": {
       "model_id": "7c2647fff5da4345901b7df2ac2d1f6d",
       "version_major": 2,
       "version_minor": 0
      },
      "text/plain": [
       "Combobox(value='', description='Event:', ensure_option=True, options=('KW 2016 Offshore - Welcome Race 2 ORC I…"
      ]
     },
     "metadata": {},
     "output_type": "display_data"
    },
    {
     "data": {
      "application/vnd.jupyter.widget-view+json": {
       "model_id": "9d9365d6d84e459296d932648f611937",
       "version_major": 2,
       "version_minor": 0
      },
      "text/plain": [
       "Output()"
      ]
     },
     "metadata": {},
     "output_type": "display_data"
    },
    {
     "data": {
      "application/vnd.jupyter.widget-view+json": {
       "model_id": "c537d5adde054c89b190557a99f47d3a",
       "version_major": 2,
       "version_minor": 0
      },
      "text/plain": [
       "Dropdown(description='Race:', options=(), value=None)"
      ]
     },
     "metadata": {},
     "output_type": "display_data"
    }
   ],
   "source": [
    "regattas_data = requests.get(\"http://www.sapsailing.com/sailingserver/api/v1/regattas\").text\n",
    "regattas_data = json.loads(regattas_data)\n",
    "regatta_name = widgets.Combobox(\n",
    "    placeholder='Choose Event',\n",
    "    options=[event[\"name\"] for event in events_data],\n",
    "    description='Event:',\n",
    "    ensure_option=True,\n",
    "    disabled=False\n",
    ")\n",
    "output = widgets.Output()\n",
    "display(regatta_name, output)\n",
    "\n",
    "race = widgets.Dropdown(\n",
    "            options=[],\n",
    "            description='Race:',\n",
    "            disabled=False,\n",
    "        )\n",
    "display(race)\n",
    "\n",
    "def on_change(change):\n",
    "    with output:\n",
    "        races_data = requests.get(f\"https://www.sapsailing.com/sailingserver/api/v1/regattas/{regatta_name.value}/races\").text\n",
    "        races_data = json.loads(races_data)\n",
    "        \n",
    "        race.options = [race[\"name\"].strip() for race in races_data[\"races\"]]\n",
    "\n",
    "regatta_name.observe(on_change, names='value')"
   ]
  },
  {
   "cell_type": "code",
   "execution_count": 176,
   "id": "833918e5-f1d9-4e85-9e64-52f410c28ded",
   "metadata": {},
   "outputs": [
    {
     "data": {
      "image/png": "[encoded data removed]",
      "text/plain": [
       "<Figure size 640x480 with 1 Axes>"
      ]
     },
     "metadata": {},
     "output_type": "display_data"
    }
   ],
   "source": [
    "start_data = requests.get(f\"https://www.sapsailing.com/sailingserver/api/v1/regattas/{regatta_name.value}/races/{race.value}/startanalysis\")\n",
    "start_data = json.loads(start_data.text)\n",
    "\n",
    "ww_mark_data = requests.get(f\"https://www.sapsailing.com/sailingserver/api/v1/regattas/{regatta_name.value}/races/{race.value}/markpassings\")\n",
    "ww_mark_data = json.loads(ww_mark_data.text)['bywaypoint'][1]['markpassings']\n",
    "\n",
    "line_lenght = start_data['startline'][\"lengthInMeters\"]\n",
    "\n",
    "@dataclass\n",
    "class Competitor:\n",
    "    name: str\n",
    "    dist_from_strb: float\n",
    "    ww_time: int\n",
    "\n",
    "competitors = []\n",
    "\n",
    "for c in start_data['competitors']:\n",
    "    for ww_pos in ww_mark_data:\n",
    "        if ww_pos['competitor']['name'] == c['competitor']['name']:\n",
    "            competitors.append(Competitor(name=c['competitor']['name'],\n",
    "                                  dist_from_strb=c['distanceToStarboardSideOfStartLineInMeters'],\n",
    "                                  ww_time=ww_pos['timeasmillis']))\n",
    "\n",
    "competitors.sort(key=lambda x: x.ww_time)\n",
    "\n",
    "plt.figure()\n",
    "plt.plot(0,0, 'k*', markersize=10)\n",
    "plt.plot(-line_lenght,0, 'k*', markersize=10)\n",
    "for i, c in enumerate(competitors):\n",
    "    if i < 10:\n",
    "        plt.plot(-c.dist_from_strb, 0, 'g.')\n",
    "    else:\n",
    "        plt.plot(-c.dist_from_strb, 0, 'r.')\n",
    "plt.show()"
   ]
  },
  {
   "cell_type": "code",
   "execution_count": null,
   "id": "4c0c73f5-f4a6-4976-aed5-017dfb1c2e60",
   "metadata": {},
   "outputs": [],
   "source": []
  }
 ],
 "metadata": {
  "kernelspec": {
   "display_name": "Python 3 (ipykernel)",
   "language": "python",
   "name": "python3"
  },
  "language_info": {
   "codemirror_mode": {
    "name": "ipython",
    "version": 3
   },
   "file_extension": ".py",
   "mimetype": "text/x-python",
   "name": "python",
   "nbconvert_exporter": "python",
   "pygments_lexer": "ipython3",
   "version": "3.11.3"
  }
 },
 "nbformat": 4,
 "nbformat_minor": 5
}
